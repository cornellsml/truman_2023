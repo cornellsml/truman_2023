{
 "cells": [
  {
   "cell_type": "markdown",
   "metadata": {},
   "source": [
    "# Evaluate AI Generated Content"
   ]
  },
  {
   "cell_type": "code",
   "execution_count": 1,
   "metadata": {},
   "outputs": [
    {
     "name": "stderr",
     "output_type": "stream",
     "text": [
      "/Users/adhit/opt/anaconda3/envs/truman-env/lib/python3.8/site-packages/tqdm/auto.py:21: TqdmWarning: IProgress not found. Please update jupyter and ipywidgets. See https://ipywidgets.readthedocs.io/en/stable/user_install.html\n",
      "  from .autonotebook import tqdm as notebook_tqdm\n"
     ]
    }
   ],
   "source": [
    "# import statements\n",
    "\n",
    "import csv\n",
    "import spacy\n",
    "from transformers import BertTokenizer, BertForNextSentencePrediction\n",
    "import torch\n",
    "from collections import defaultdict\n",
    "import matplotlib.pyplot as plt\n",
    "import random"
   ]
  },
  {
   "cell_type": "markdown",
   "metadata": {},
   "source": [
    "## Read Content"
   ]
  },
  {
   "cell_type": "markdown",
   "metadata": {},
   "source": [
    "### AI-Generated Content"
   ]
  },
  {
   "cell_type": "code",
   "execution_count": 2,
   "metadata": {},
   "outputs": [],
   "source": [
    "# notifications (reply)\n",
    "\n",
    "ai_notifications_replies = []\n",
    "with open('ai_input/notifications (reply).csv', 'r', newline='') as file:\n",
    "    reader = csv.reader(file, delimiter=\",\")\n",
    "    header = next(reader)\n",
    "    for line in reader:\n",
    "        ai_notifications_replies.append(line[header.index(\"body\")].replace(\"\\\"\", \"\"))"
   ]
  },
  {
   "cell_type": "code",
   "execution_count": 3,
   "metadata": {},
   "outputs": [],
   "source": [
    "# replies\n",
    "\n",
    "ai_replies = []\n",
    "ai_replies_dict = defaultdict(list)\n",
    "with open('ai_input/replies.csv', 'r', newline='') as file:\n",
    "    reader = csv.reader(file, delimiter=\",\")\n",
    "    header = next(reader)\n",
    "    for line in reader:\n",
    "        id = line[header.index(\"postID\")]\n",
    "        reply = line[header.index(\"body\")]\n",
    "        ai_replies_dict[id].append(reply)\n",
    "        ai_replies.append(reply.replace(\"\\\"\", \"\"))"
   ]
  },
  {
   "cell_type": "code",
   "execution_count": 4,
   "metadata": {},
   "outputs": [],
   "source": [
    "# post captions\n",
    "\n",
    "ai_post_captions = []\n",
    "ai_posts_dict = {}\n",
    "with open('ai_input/posts.csv', 'r', newline='') as file:\n",
    "    reader = csv.reader(file, delimiter=\",\")\n",
    "    header = next(reader)\n",
    "    for line in reader:\n",
    "        id = line[header.index(\"id\")]\n",
    "        caption = line[header.index(\"body\")]\n",
    "        ai_posts_dict[id] = caption\n",
    "        ai_post_captions.append(caption.replace(\"\\\"\", \"\"))"
   ]
  },
  {
   "cell_type": "code",
   "execution_count": 5,
   "metadata": {},
   "outputs": [],
   "source": [
    "# actor bios\n",
    "\n",
    "ai_actor_bios = []\n",
    "with open('ai_input/actors.csv', 'r', newline='') as file:\n",
    "    reader = csv.reader(file, delimiter=\",\")\n",
    "    header = next(reader)\n",
    "    for line in reader:\n",
    "        ai_actor_bios.append(line[header.index(\"bio\")].replace(\"\\\"\", \"\"))"
   ]
  },
  {
   "cell_type": "markdown",
   "metadata": {},
   "source": [
    "### Example Content"
   ]
  },
  {
   "cell_type": "code",
   "execution_count": 6,
   "metadata": {},
   "outputs": [],
   "source": [
    "# notifications (reply)\n",
    "\n",
    "notifications_replies = []\n",
    "with open('input/notifications (reply).csv', 'r', newline='') as file:\n",
    "    reader = csv.reader(file, delimiter=\",\")\n",
    "    header = next(reader)\n",
    "    for line in reader:\n",
    "        notifications_replies.append(line[header.index(\"body\")].replace(\"\\\"\", \"\"))"
   ]
  },
  {
   "cell_type": "code",
   "execution_count": 7,
   "metadata": {},
   "outputs": [],
   "source": [
    "# replies\n",
    "\n",
    "replies = []\n",
    "with open('input/replies.csv', 'r', newline='') as file:\n",
    "    reader = csv.reader(file, delimiter=\",\")\n",
    "    header = next(reader)\n",
    "    for line in reader:\n",
    "        replies.append(line[header.index(\"body\")].replace(\"\\\"\", \"\"))"
   ]
  },
  {
   "cell_type": "code",
   "execution_count": 8,
   "metadata": {},
   "outputs": [],
   "source": [
    "# post captions\n",
    "\n",
    "post_captions = []\n",
    "with open('input/posts.csv', 'r', newline='') as file:\n",
    "    reader = csv.reader(file, delimiter=\",\")\n",
    "    header = next(reader)\n",
    "    for line in reader:\n",
    "        post_captions.append(line[header.index(\"body\")].replace(\"\\\"\", \"\"))"
   ]
  },
  {
   "cell_type": "code",
   "execution_count": 9,
   "metadata": {},
   "outputs": [],
   "source": [
    "# actor bios\n",
    "\n",
    "actor_bios = []\n",
    "with open('input/actors.csv', 'r', newline='') as file:\n",
    "    reader = csv.reader(file, delimiter=\",\")\n",
    "    header = next(reader)\n",
    "    for line in reader:\n",
    "        actor_bios.append(line[header.index(\"bio\")].replace(\"\\\"\", \"\"))"
   ]
  },
  {
   "cell_type": "markdown",
   "metadata": {},
   "source": [
    "## Evaluate Content"
   ]
  },
  {
   "cell_type": "markdown",
   "metadata": {},
   "source": [
    "### Helper Methods"
   ]
  },
  {
   "cell_type": "code",
   "execution_count": 10,
   "metadata": {},
   "outputs": [],
   "source": [
    "# similarity\n",
    "\n",
    "nlp = spacy.load(\"en_core_web_lg\")\n",
    "\n",
    "def similarity_score(sentence1, sentence2):\n",
    "    doc1 = nlp(sentence1)\n",
    "    doc2 = nlp(sentence2)\n",
    "    return doc1.similarity(doc2)"
   ]
  },
  {
   "cell_type": "code",
   "execution_count": 11,
   "metadata": {},
   "outputs": [
    {
     "name": "stderr",
     "output_type": "stream",
     "text": [
      "Some weights of the model checkpoint at bert-base-uncased were not used when initializing BertForNextSentencePrediction: ['cls.predictions.transform.dense.bias', 'cls.predictions.decoder.weight', 'cls.predictions.transform.LayerNorm.weight', 'cls.predictions.transform.LayerNorm.bias', 'cls.predictions.bias', 'cls.predictions.transform.dense.weight']\n",
      "- This IS expected if you are initializing BertForNextSentencePrediction from the checkpoint of a model trained on another task or with another architecture (e.g. initializing a BertForSequenceClassification model from a BertForPreTraining model).\n",
      "- This IS NOT expected if you are initializing BertForNextSentencePrediction from the checkpoint of a model that you expect to be exactly identical (initializing a BertForSequenceClassification model from a BertForSequenceClassification model).\n"
     ]
    }
   ],
   "source": [
    "# coherence\n",
    "\n",
    "tokenizer = BertTokenizer.from_pretrained('bert-base-uncased')\n",
    "model = BertForNextSentencePrediction.from_pretrained('bert-base-uncased')\n",
    "\n",
    "def coherence_score(caption, reply):\n",
    "    sentence1 = \"{}\".format(caption)\n",
    "    sentence2 = \"{}\".format(reply)\n",
    "    tokenized = tokenizer(sentence1, sentence2, return_tensors='pt')\n",
    "    labels = torch.LongTensor([0])\n",
    "    predict = model(**tokenized, labels=labels)\n",
    "    probs = torch.nn.functional.softmax(predict.logits[0], dim=0)\n",
    "    return probs[0].item()"
   ]
  },
  {
   "cell_type": "markdown",
   "metadata": {},
   "source": [
    "### Coherence between post and comments over time"
   ]
  },
  {
   "cell_type": "code",
   "execution_count": 12,
   "metadata": {},
   "outputs": [
    {
     "data": {
      "image/png": "[encoded data removed]",
      "text/plain": [
       "<Figure size 432x288 with 1 Axes>"
      ]
     },
     "metadata": {
      "needs_background": "light"
     },
     "output_type": "display_data"
    }
   ],
   "source": [
    "# ai_posts_dict[post_id] = post_caption\n",
    "# ai_replies_dict[post_id] = [replies]\n",
    "\n",
    "points = []\n",
    "num_replies = 0\n",
    "sum_scores = 0\n",
    "num_scores = 0\n",
    "for id in ai_posts_dict.keys():\n",
    "    caption = ai_posts_dict[id]\n",
    "    replies = ai_replies_dict[id]\n",
    "    for reply in replies:\n",
    "        num_replies += 1\n",
    "        sum_scores += coherence_score(caption, reply)\n",
    "        num_scores += 1\n",
    "        points.append((num_replies, sum_scores/num_scores))\n",
    "\n",
    "x = [i[0] for i in points]\n",
    "y = [i[1] for i in points]\n",
    "plt.scatter(x, y)\n",
    "plt.ylim(0,1)\n",
    "plt.xlabel(\"Number of Replies Generated\")\n",
    "plt.ylabel(\"Coherence with Post\")\n",
    "plt.show()"
   ]
  },
  {
   "cell_type": "markdown",
   "metadata": {},
   "source": [
    "### Comment creativity (1-similarity) over time"
   ]
  },
  {
   "cell_type": "markdown",
   "metadata": {},
   "source": [
    "#### including comparison with comments under same post"
   ]
  },
  {
   "cell_type": "code",
   "execution_count": 13,
   "metadata": {},
   "outputs": [
    {
     "data": {
      "image/png": "[encoded data removed]",
      "text/plain": [
       "<Figure size 432x288 with 1 Axes>"
      ]
     },
     "metadata": {
      "needs_background": "light"
     },
     "output_type": "display_data"
    }
   ],
   "source": [
    "points = []\n",
    "previous_replies = []\n",
    "sum_scores = 0\n",
    "num_scores = 0\n",
    "k = 25 # for subsampling previous replies for similarity comparison\n",
    "for id in ai_posts_dict.keys():\n",
    "    replies = ai_replies_dict[id]\n",
    "    for curr_reply in replies:\n",
    "        scores = []\n",
    "        for prev_reply in random.sample(previous_replies, min(len(previous_replies), k)):\n",
    "            scores.append(1 - similarity_score(curr_reply, prev_reply))\n",
    "        try:\n",
    "            sum_scores += sum(scores)/len(scores)\n",
    "            num_scores += 1\n",
    "            previous_replies.append(curr_reply)\n",
    "            points.append((len(previous_replies), sum_scores/num_scores))\n",
    "        except:\n",
    "            previous_replies.append(curr_reply)\n",
    "\n",
    "x = [i[0] for i in points]\n",
    "y = [i[1] for i in points]\n",
    "plt.scatter(x, y)\n",
    "plt.ylim(0,1)\n",
    "plt.xlabel(\"Number of Replies Generated\")\n",
    "plt.ylabel(\"Average Creativity (1 - Similarity to Previous Replies)\")\n",
    "plt.show()"
   ]
  },
  {
   "cell_type": "markdown",
   "metadata": {},
   "source": [
    "#### excluding comparison with comments under same post"
   ]
  },
  {
   "cell_type": "code",
   "execution_count": 14,
   "metadata": {},
   "outputs": [
    {
     "data": {
      "image/png": "[encoded data removed]",
      "text/plain": [
       "<Figure size 432x288 with 1 Axes>"
      ]
     },
     "metadata": {
      "needs_background": "light"
     },
     "output_type": "display_data"
    }
   ],
   "source": [
    "points = []\n",
    "previous_replies = []\n",
    "sum_scores = 0\n",
    "num_scores = 0\n",
    "k = 25 # for subsampling previous replies for similarity comparison\n",
    "for id in ai_posts_dict.keys():\n",
    "    replies = ai_replies_dict[id]\n",
    "    for curr_reply in replies:\n",
    "        scores = []\n",
    "        for prev_reply in random.sample(previous_replies, min(len(previous_replies), k)):\n",
    "            scores.append(1 - similarity_score(curr_reply, prev_reply))\n",
    "        try:\n",
    "            sum_scores += sum(scores)/len(scores)\n",
    "            num_scores += 1\n",
    "            points.append((len(previous_replies), sum_scores/num_scores))\n",
    "        except:\n",
    "            pass\n",
    "    previous_replies += replies\n",
    "\n",
    "x = [i[0] for i in points]\n",
    "y = [i[1] for i in points]\n",
    "plt.scatter(x, y)\n",
    "plt.ylim(0,1)\n",
    "plt.xlabel(\"Number of Replies Generated\")\n",
    "plt.ylabel(\"Average Creativity (1 - Similarity to Previous Replies)\")\n",
    "plt.show()"
   ]
  },
  {
   "cell_type": "markdown",
   "metadata": {},
   "source": [
    "### Similarity with actor bio examples "
   ]
  },
  {
   "cell_type": "code",
   "execution_count": 15,
   "metadata": {},
   "outputs": [
    {
     "name": "stderr",
     "output_type": "stream",
     "text": [
      "<ipython-input-10-6ddf7aaa9631>:8: UserWarning: [W008] Evaluating Doc.similarity based on empty vectors.\n",
      "  return doc1.similarity(doc2)\n"
     ]
    },
    {
     "data": {
      "image/png": "[encoded data removed]",
      "text/plain": [
       "<Figure size 432x288 with 1 Axes>"
      ]
     },
     "metadata": {
      "needs_background": "light"
     },
     "output_type": "display_data"
    }
   ],
   "source": [
    "examples = []\n",
    "examples = actor_bios\n",
    "\n",
    "points = []\n",
    "sum_scores = 0\n",
    "num_scores = 0\n",
    "for bio in ai_actor_bios:\n",
    "    scores = []\n",
    "    for example in examples:\n",
    "        scores.append(similarity_score(bio, example))\n",
    "    sum_scores += sum(scores)/len(scores)\n",
    "    num_scores += 1\n",
    "    points.append((num_scores, sum_scores/num_scores))\n",
    "\n",
    "x = [i[0] for i in points]\n",
    "y = [i[1] for i in points]\n",
    "plt.scatter(x, y)\n",
    "plt.ylim(0,1)\n",
    "plt.xlabel(\"Number of Bios Generated\")\n",
    "plt.ylabel(\"Average Similarity with Example Bios\")\n",
    "plt.show()"
   ]
  }
 ],
 "metadata": {
  "kernelspec": {
   "display_name": "truman-env",
   "language": "python",
   "name": "python3"
  },
  "language_info": {
   "codemirror_mode": {
    "name": "ipython",
    "version": 3
   },
   "file_extension": ".py",
   "mimetype": "text/x-python",
   "name": "python",
   "nbconvert_exporter": "python",
   "pygments_lexer": "ipython3",
   "version": "3.8.13"
  },
  "orig_nbformat": 4
 },
 "nbformat": 4,
 "nbformat_minor": 2
}
