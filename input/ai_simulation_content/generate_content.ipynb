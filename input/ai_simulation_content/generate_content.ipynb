{
 "cells": [
  {
   "cell_type": "markdown",
   "metadata": {},
   "source": [
    "# AI-Based Simulation Content Generation"
   ]
  },
  {
   "cell_type": "markdown",
   "metadata": {},
   "source": [
    "### Imports"
   ]
  },
  {
   "cell_type": "code",
   "execution_count": 1,
   "metadata": {},
   "outputs": [],
   "source": [
    "# import statements\n",
    "\n",
    "import constants as keys\n",
    "import os\n",
    "import shutil\n",
    "import nest_asyncio\n",
    "import random\n",
    "from openai import OpenAI\n",
    "import csv\n",
    "import requests\n",
    "import datetime\n",
    "import numpy as np\n",
    "\n",
    "from langchain.prompts import PromptTemplate\n",
    "from langchain.chains import LLMChain\n",
    "from langchain.chat_models import ChatOpenAI"
   ]
  },
  {
   "cell_type": "markdown",
   "metadata": {},
   "source": [
    "### Environment Setup"
   ]
  },
  {
   "cell_type": "code",
   "execution_count": 2,
   "metadata": {},
   "outputs": [],
   "source": [
    "nest_asyncio.apply()\n",
    "\n",
    "os.environ[\"OPENAI_API_KEY\"] = keys.OPENAI_API_KEY\n",
    "\n",
    "client = OpenAI(\n",
    "  api_key=os.environ['OPENAI_API_KEY'],  # this is also the default, it can be omitted\n",
    ")"
   ]
  },
  {
   "cell_type": "code",
   "execution_count": 3,
   "metadata": {},
   "outputs": [],
   "source": [
    "# change paths before production i.e. remove \"ai_\"\n",
    "\n",
    "post_pictures_path = \"./ai_post_pictures/\"\n",
    "if os.path.exists(post_pictures_path):\n",
    "    shutil.rmtree(post_pictures_path)\n",
    "os.makedirs(post_pictures_path)\n",
    "\n",
    "profile_pictures_path = \"./ai_profile_pictures/\"\n",
    "if os.path.exists(profile_pictures_path):\n",
    "    shutil.rmtree(profile_pictures_path)\n",
    "os.makedirs(profile_pictures_path)\n",
    "\n",
    "input_path = \"./ai_input/\"\n",
    "if os.path.exists(input_path):\n",
    "    shutil.rmtree(input_path)\n",
    "os.makedirs(input_path)"
   ]
  },
  {
   "cell_type": "code",
   "execution_count": 4,
   "metadata": {},
   "outputs": [],
   "source": [
    "marginal_replies = []\n",
    "with open('marginal_replies.csv', 'r', newline='') as file:\n",
    "    reader = csv.reader(file, delimiter=\"\\n\")\n",
    "    header = next(reader)\n",
    "    for reply in reader:\n",
    "        marginal_replies.append(reply[0])\n",
    "    "
   ]
  },
  {
   "cell_type": "markdown",
   "metadata": {},
   "source": [
    "### User Input"
   ]
  },
  {
   "cell_type": "code",
   "execution_count": 5,
   "metadata": {},
   "outputs": [],
   "source": [
    "# startup variables\n",
    "\n",
    "actor_general_description = \"random generic social media user.\" # include examples\n",
    "\n",
    "num_random_actors = 20 # for actors.csv generation\n",
    "age_range = [18, 45] # range for age of randomly generated actors for actors.csv generation\n",
    "num_posts_per_actor = [4, 6] # range for num randomly generated posts per randomly generated actor\n",
    "num_replies_per_post = [4, 6] # range for num randomly generated replies per randomly generated post\n",
    "\n",
    "num_hours_before_user_join = 24 # length of simulation BEFORE user joins in hours (max is 24)\n",
    "num_hours_after_user_join = 48 # length of simulation AFTER user joins in hours\n",
    "\n",
    "num_user_posts = 5\n",
    "user_likes_per_post = [6, 10] # range for likes per post from user\n",
    "user_reads_per_post = [8, 12] # range for reads per post from user\n",
    "user_replies_per_post = [4, 6] # range for replies per post from user\n",
    "\n",
    "num_user_replies = 5\n",
    "user_likes_per_reply = [6, 10] # range for likes per reply from user\n",
    "user_reads_per_reply = [8, 12] # range for reads per reply from user"
   ]
  },
  {
   "cell_type": "markdown",
   "metadata": {},
   "source": [
    "### Helper Methods"
   ]
  },
  {
   "cell_type": "code",
   "execution_count": 6,
   "metadata": {},
   "outputs": [],
   "source": [
    "# image generation \n",
    "\n",
    "def generate_profile_picture(age, gender, name, file_path):\n",
    "  res = client.images.generate(\n",
    "    prompt=\"{} year old {} named {}.\".format(age, gender, name),\n",
    "    n=1, # number of images to generate\n",
    "    size=\"256x256\",\n",
    "  )\n",
    "  # write image to file_path\n",
    "  with open(profile_pictures_path+file_path, \"wb\") as f:\n",
    "    f.write(requests.get(res.data[0].url).content)\n",
    "  \n",
    "  return file_path\n",
    "\n",
    "def generate_post_picture(description, file_path):\n",
    "  res = client.images.generate(\n",
    "    prompt=description, \n",
    "    n=1, # number of images to generate\n",
    "    size=\"256x256\",\n",
    "  )\n",
    "  # write image to file_path\n",
    "  with open(post_pictures_path+file_path, \"wb\") as f:\n",
    "    f.write(requests.get(res.data[0].url).content)\n",
    "  \n",
    "  return file_path"
   ]
  },
  {
   "cell_type": "code",
   "execution_count": 7,
   "metadata": {},
   "outputs": [],
   "source": [
    "def create_LLM(prompt):\n",
    "    return LLMChain(llm=ChatOpenAI(temperature=1, model=\"gpt-4\"), prompt=prompt)"
   ]
  },
  {
   "cell_type": "code",
   "execution_count": 8,
   "metadata": {},
   "outputs": [],
   "source": [
    "random_actor_generation_prompt = PromptTemplate(\n",
    "    input_variables=[\"gender\", \"age\", \"first_names\", \"last_names\"],\n",
    "    template = \"Please generate a random location in the United States (formatted as city, state abbreviation), a random full name (first and last name) for a {age} year old {gender}, a random social media username (that does not contain the number 20) for this person using only alphanumeric characters. Do not use the following first names: {first_names}. Do not use the following last names: {last_names}. Please format the responses as a comma separated list.\"\n",
    ")\n",
    "random_actor_generation_llm = create_LLM(random_actor_generation_prompt)"
   ]
  },
  {
   "cell_type": "code",
   "execution_count": 9,
   "metadata": {},
   "outputs": [],
   "source": [
    "actor_description_generation_prompt = PromptTemplate(\n",
    "    input_variables=[\"gender\", \"age\", 'name', 'city', 'state', 'description'],\n",
    "    template = \"Please generate a 2 sentence description of a unique, random character that is {age} year old {gender} named {name} from {city}, {state} with the following description: {description}.\"\n",
    ")\n",
    "actor_description_generation_llm = create_LLM(actor_description_generation_prompt)"
   ]
  },
  {
   "cell_type": "code",
   "execution_count": 10,
   "metadata": {},
   "outputs": [],
   "source": [
    "random_bio_generation_prompt = PromptTemplate(\n",
    "    input_variables=[\"gender\", \"age\", 'name', 'city', 'state', 'description'],\n",
    "    template = \"Please generate a 4-10 word Facebook bio for a {age} year old {gender} named {name} from {city}, {state} with the following description: {description}. That does not mention any of their personal information (name, age, location) but instead mentions a randomly generated interest of theirs. Please use emojis. Do not mention Facebook.\"\n",
    ")\n",
    "random_bio_generation_llm = create_LLM(random_bio_generation_prompt)"
   ]
  },
  {
   "cell_type": "code",
   "execution_count": 11,
   "metadata": {},
   "outputs": [],
   "source": [
    "post_description_generation_prompt = PromptTemplate(\n",
    "    input_variables=[\"gender\", \"age\", 'name', 'city', 'state', 'description'],\n",
    "    template = \"Please generate a detailed 1 sentence description of a picture that a {age} year old {gender} named {name} from {city}, {state} would post on Facebook. The description of the poster is as follows: {description}. The picture can be a picture of the poster themselves or places of interest to the poster. Do not include a description of the post's caption, only describe the picture itself. Do not mention Facebook.\"\n",
    ")\n",
    "post_description_generation_llm = create_LLM(post_description_generation_prompt)"
   ]
  },
  {
   "cell_type": "code",
   "execution_count": 12,
   "metadata": {},
   "outputs": [],
   "source": [
    "caption_generation_prompt = PromptTemplate(\n",
    "    input_variables=['description'],\n",
    "    template = \"Please generate a 5-15 word caption for a Facebook post with the following description: {description}. Do not mention Facebook or the name of the person pictured.\"\n",
    ")\n",
    "caption_generation_llm = create_LLM(caption_generation_prompt)"
   ]
  },
  {
   "cell_type": "code",
   "execution_count": 13,
   "metadata": {},
   "outputs": [],
   "source": [
    "reply_generation_prompt = PromptTemplate(\n",
    "    input_variables=[\"gender\", \"age\", 'name', 'city', 'state', 'commenter_description', 'post_description'],\n",
    "    template = \"You are a {age} year old {gender} named {name} from {city}, {state} with the following description: {commenter_description}. Generate a 1-2 sentence comment you would leave on the following post: {post_description}. Please use the colloquial style/language of a {age} year old {gender} named {name} from {city}, {state}. Do not mention the name of the person who posted the post.\"\n",
    ")\n",
    "reply_generation_llm = create_LLM(reply_generation_prompt)"
   ]
  },
  {
   "cell_type": "markdown",
   "metadata": {},
   "source": [
    "### Generate Data"
   ]
  },
  {
   "cell_type": "code",
   "execution_count": 14,
   "metadata": {},
   "outputs": [],
   "source": [
    "actors = {}\n",
    "\n",
    "first_names = []\n",
    "last_names = []\n",
    "\n",
    "for _ in range(num_random_actors):\n",
    "\n",
    "    try:\n",
    "        gender = random.choice(['Male', 'Female'])\n",
    "        age = random.randint(age_range[0], age_range[1])\n",
    "\n",
    "        valid = False\n",
    "        while not valid:\n",
    "            actor_info = random_actor_generation_llm.run({'gender':gender, 'age':age, 'first_names':first_names, 'last_names':last_names}).replace(\"\\n\", '').replace(\"@\", '').replace(\"\\\"\", \"\").replace(\"\\'\", \"\")\n",
    "            city, state, name, username = actor_info.split(', ')\n",
    "            first_name, last_name = name.split(\" \")\n",
    "            if first_name not in first_names and last_name not in last_names:\n",
    "                first_names.append(first_name)\n",
    "                last_names.append(last_name)\n",
    "                valid = True\n",
    "\n",
    "        description = actor_description_generation_llm.run({'gender':gender, 'age':age, 'city':city, 'state':state, 'name':name, 'description':actor_general_description}).replace(\"\\n\", '').replace(\"\\\"\", '')\n",
    "\n",
    "        bio = random_bio_generation_llm.run({'gender':gender, 'age':age, 'city':city, 'state':state, 'name':name, 'description':description}).replace(\"\\n\", '').replace(\"\\\"\", '')\n",
    "\n",
    "        profile_picture = generate_profile_picture(age, gender, name, username+\".jpg\")\n",
    "\n",
    "        actors[username] = {'gender':gender, 'age':age, 'city':city, 'state':state, 'name':name, 'bio':bio, 'description':description, 'picture':profile_picture}\n",
    "\n",
    "    except: \n",
    "        print(\"actor generation failed.\")"
   ]
  },
  {
   "cell_type": "code",
   "execution_count": 15,
   "metadata": {},
   "outputs": [],
   "source": [
    "posts = {}\n",
    "\n",
    "post_id = 0\n",
    "for actor in actors:\n",
    "    for _ in range(random.randint(num_posts_per_actor[0], num_posts_per_actor[1])):\n",
    "\n",
    "        try:\n",
    "            post_description = post_description_generation_llm.run(actors[actor]).replace(\"\\n\", '')\n",
    "            picture = generate_post_picture(post_description, str(post_id)+\".jpg\")\n",
    "\n",
    "            rng = random.random()\n",
    "            if rng < num_hours_before_user_join/(num_hours_before_user_join+num_hours_after_user_join): # post before user joined\n",
    "                post_hour = str(random.randint(0,num_hours_before_user_join)) \n",
    "                post_min = str(random.randint(0,60))\n",
    "                post_sec = str(random.randint(0,60))\n",
    "                if len(post_hour) == 1: post_hour = \"0\" + post_hour\n",
    "                if len(post_min) == 1: post_min = \"0\" + post_min\n",
    "                if len(post_sec) == 1: post_sec = \"0\" + post_sec\n",
    "                time = \"-\" + post_hour + \":\" + post_min + \":\" + post_sec\n",
    "            else: # post after user joined\n",
    "                post_hour = str(random.randint(0,num_hours_after_user_join))\n",
    "                post_min = str(random.randint(0,60))\n",
    "                post_sec = str(random.randint(0,60))\n",
    "                if len(post_hour) == 1: post_hour = \"0\" + post_hour\n",
    "                if len(post_min) == 1: post_min = \"0\" + post_min\n",
    "                if len(post_sec) == 1: post_sec = \"0\" + post_sec\n",
    "                time = post_hour + \":\" + post_min + \":\" + post_sec\n",
    "\n",
    "            caption = caption_generation_llm.run({'description':post_description}).replace(\"\\n\", '').replace(\"\\\"\", '')\n",
    "\n",
    "            posts[post_id] = {'caption':caption, 'post_description':post_description, 'actor':actor, 'picture':picture, 'time':time}\n",
    "            post_id += 1\n",
    "        except: # might fail with some issue with the prompt, if so just don't include the post\n",
    "            pass"
   ]
  },
  {
   "cell_type": "code",
   "execution_count": 16,
   "metadata": {},
   "outputs": [],
   "source": [
    "replies = {}\n",
    "\n",
    "id = 0\n",
    "for post_id in posts:\n",
    "    for actor in random.sample(actors.keys(), random.randint(num_replies_per_post[0], num_replies_per_post[1])):\n",
    "\n",
    "        if actor == posts[post_id][\"actor\"]: # actor cannot comment on their own post\n",
    "            continue\n",
    "\n",
    "        reply = reply_generation_llm.run({'gender':actors[actor][\"gender\"], 'age':actors[actor][\"age\"], 'city':actors[actor][\"city\"], 'state':actors[actor][\"state\"], 'name':actors[actor][\"name\"], 'commenter_description':actors[actor][\"description\"], 'post_description':posts[post_id][\"post_description\"]}).replace(\"\\n\", '').replace(\"\\\"\", '')\n",
    "        reply_class = \"\"\n",
    "\n",
    "        if posts[post_id][\"time\"][0] == \"-\" : # before user joins\n",
    "            post_hour = int(posts[post_id][\"time\"][0:3])\n",
    "            post_min = int(posts[post_id][\"time\"][4:6])\n",
    "            post_sec = int(posts[post_id][\"time\"][7:])\n",
    "        else: # after user joins\n",
    "            post_hour = int(posts[post_id][\"time\"][:2])\n",
    "            post_min = int(posts[post_id][\"time\"][3:5])\n",
    "            post_sec = int(posts[post_id][\"time\"][6:])\n",
    "        post_time = datetime.timedelta(hours=post_hour, minutes=post_min, seconds=post_sec).total_seconds()\n",
    "        end_time = datetime.timedelta(hours=num_hours_after_user_join, minutes=post_min, seconds=post_sec).total_seconds()\n",
    "        delta = end_time - post_time\n",
    "        reply_time = post_time + min(delta, int(abs(np.random.normal(0, 60*60))))\n",
    "        \n",
    "        time = \"\" if reply_time >= 0 else \"-\"\n",
    "        reply_time = abs(reply_time)\n",
    "        reply_hour = str(int(reply_time // (60*60)))\n",
    "        reply_time = reply_time % (60*60)\n",
    "        reply_min = str(int(reply_time // 60))\n",
    "        reply_time = reply_time % 60\n",
    "        reply_sec = str(int(reply_time))\n",
    "        if len(reply_hour) == 1: reply_hour = \"0\" + reply_hour\n",
    "        if len(reply_min) == 1: reply_min = \"0\" + reply_min\n",
    "        if len(reply_sec) == 1: reply_sec = \"0\" + reply_sec\n",
    "        time += reply_hour + \":\" + reply_min + \":\" + reply_sec\n",
    "\n",
    "        replies[id] = {\"actor\":actor, 'body': reply, 'postID':post_id, 'time':time, 'class':reply_class}\n",
    "        id += 1"
   ]
  },
  {
   "cell_type": "code",
   "execution_count": 17,
   "metadata": {},
   "outputs": [],
   "source": [
    "# notifications (reply)\n",
    "\n",
    "notifications_replies = {}\n",
    "id = 0\n",
    "for i in range(num_user_posts):\n",
    "    num_replies = random.randint(user_replies_per_post[0], user_replies_per_post[1])\n",
    "    for actor in random.sample(actors.keys(), min(len(actors.keys()), num_replies)):\n",
    "        userPostID = i\n",
    "        post_description = \"Some generic Facebook post by some unnamed Facebook user.\"\n",
    "        reply = reply_generation_llm.run({'gender':actors[actor][\"gender\"], 'age':actors[actor][\"age\"], 'city':actors[actor][\"city\"], 'state':actors[actor][\"state\"], 'name':actors[actor][\"name\"], 'commenter_description':actors[actor][\"description\"], 'post_description':post_description}).replace(\"\\n\", '').replace(\"\\\"\", '')\n",
    "        reply_class = \"\"\n",
    "        time = str(random.randint(0,60))\n",
    "        time = \"0:\"+time if len(time) > 1 else \"0:0\"+time\n",
    "        notifications_replies[id] = {\"userPostID\":userPostID, \"body\":reply, \"actor\":actor, \"time\":time, \"class\":reply_class}\n",
    "        id += 1"
   ]
  },
  {
   "cell_type": "code",
   "execution_count": 18,
   "metadata": {},
   "outputs": [],
   "source": [
    "# notifications (read, like)\n",
    "\n",
    "notifications_read_like = {}\n",
    "for i in range(num_user_posts): # reads and likes for userPosts\n",
    "    num_reads = random.randint(user_reads_per_post[0], user_reads_per_post[1])\n",
    "    num_likes = random.randint(user_likes_per_post[0], user_likes_per_post[1])\n",
    "    curr_like_count = 0\n",
    "    for actor in random.sample(actors.keys(), min(len(actors.keys()), num_reads)):\n",
    "        userPost = str(i)\n",
    "        userReply = \"\"\n",
    "        time = str(min(59, int(abs(np.random.normal(0, 20)))))\n",
    "        time = \"0:\"+time if len(time) > 1 else \"0:0\"+time\n",
    "        if curr_like_count < num_likes:\n",
    "            notifications_read_like[(userPost, userReply, \"like\")] = {\"actor\":actor, \"time\":time}\n",
    "            curr_like_count += 1\n",
    "        notifications_read_like[(userPost, userReply, \"read\")] = {\"actor\":actor, \"time\":time}\n",
    "\n",
    "for i in range(num_user_replies): # reads and likes for userReplies\n",
    "    num_reads = random.randint(user_reads_per_reply[0], user_reads_per_reply[1])\n",
    "    num_likes = random.randint(user_likes_per_reply[0], user_likes_per_reply[1])\n",
    "    curr_like_count = 0\n",
    "    for actor in random.sample(actors.keys(), min(len(actors.keys()), num_reads)):\n",
    "        userPost = \"\"\n",
    "        userReply = str(i)\n",
    "        time = str(min(59, int(abs(np.random.normal(0, 20)))))\n",
    "        time = \"0:\"+time if len(time) > 1 else \"0:0\"+time\n",
    "        if curr_like_count < num_likes:\n",
    "            notifications_read_like[(userPost, userReply, \"like\")] = {\"actor\":actor, \"time\":time}\n",
    "            curr_like_count += 1\n",
    "        notifications_read_like[(userPost, userReply, \"read\")] = {\"actor\":actor, \"time\":time}"
   ]
  },
  {
   "cell_type": "markdown",
   "metadata": {},
   "source": [
    "### Write Data to CSVs"
   ]
  },
  {
   "cell_type": "code",
   "execution_count": 19,
   "metadata": {},
   "outputs": [],
   "source": [
    "with open(input_path+'actors.csv', 'w', newline='') as file:\n",
    "     writer = csv.writer(file)\n",
    "     writer.writerow([\"username\", \"name\", \"gender\", \"age\", \"location\", \"bio\", \"picture\", \"class\"])\n",
    "     for actor in actors:\n",
    "         username = actor\n",
    "         name = actors[actor][\"name\"]\n",
    "         gender = actors[actor][\"gender\"]\n",
    "         age = actors[actor][\"age\"]\n",
    "         location = actors[actor][\"city\"] + \", \" + actors[actor][\"state\"]\n",
    "         bio = actors[actor][\"bio\"]\n",
    "         picture = actors[actor][\"picture\"]\n",
    "         writer.writerow([username, name, gender, age, location, bio, picture, \"\"])"
   ]
  },
  {
   "cell_type": "code",
   "execution_count": 20,
   "metadata": {},
   "outputs": [],
   "source": [
    "with open(input_path+'posts.csv', 'w', newline='') as file:\n",
    "     writer = csv.writer(file)\n",
    "     writer.writerow([\"id\", \"body\", \"picture\", \"actor\", \"time\", \"class\"])\n",
    "     for post_id in posts:\n",
    "         id = post_id\n",
    "         body = posts[post_id][\"caption\"]\n",
    "         picture = posts[post_id][\"picture\"]\n",
    "         actor = posts[post_id][\"actor\"]\n",
    "         time = posts[post_id][\"time\"]\n",
    "         writer.writerow([id, body, picture, actor, time, \"normal\"])"
   ]
  },
  {
   "cell_type": "code",
   "execution_count": 21,
   "metadata": {},
   "outputs": [],
   "source": [
    "with open(input_path+'replies.csv', 'w', newline='') as file:\n",
    "     writer = csv.writer(file)\n",
    "     writer.writerow([\"id\", \"body\", \"actor\", \"postID\", \"time\", \"class\"])\n",
    "     for id in replies:\n",
    "         body = replies[id][\"body\"]\n",
    "         actor = replies[id][\"actor\"]\n",
    "         postID = replies[id][\"postID\"]\n",
    "         time = replies[id][\"time\"]\n",
    "         writer.writerow([id, body, actor, postID, time, replies[id][\"class\"]])"
   ]
  },
  {
   "cell_type": "code",
   "execution_count": 22,
   "metadata": {},
   "outputs": [],
   "source": [
    "with open(input_path+'notifications (reply).csv', 'w', newline='') as file:\n",
    "     writer = csv.writer(file)\n",
    "     writer.writerow([\"id\", \"userPostID\", \"body\", \"actor\", \"time\", \"class\"])\n",
    "     for id in notifications_replies:\n",
    "        userPostID = notifications_replies[id][\"userPostID\"]\n",
    "        body = notifications_replies[id][\"body\"]\n",
    "        actor = notifications_replies[id][\"actor\"]\n",
    "        time = notifications_replies[id][\"time\"]\n",
    "        writer.writerow([id, userPostID, body, actor, time, notifications_replies[id][\"class\"]])"
   ]
  },
  {
   "cell_type": "code",
   "execution_count": 23,
   "metadata": {},
   "outputs": [],
   "source": [
    "with open(input_path+'notifications (read, like).csv', 'w', newline='') as file:\n",
    "     writer = csv.writer(file)\n",
    "     writer.writerow([\"userPost\", \"userReply\", \"type\", \"actor\", \"time\"])\n",
    "     for key in notifications_read_like:\n",
    "        userPost = key[0]\n",
    "        userReply = key[1]\n",
    "        type = key[2]\n",
    "        actor = notifications_read_like[key][\"actor\"]\n",
    "        time = notifications_read_like[key][\"time\"]\n",
    "        writer.writerow([userPost, userReply, type, actor, time])"
   ]
  }
 ],
 "metadata": {
  "kernelspec": {
   "display_name": "truman-env",
   "language": "python",
   "name": "python3"
  },
  "language_info": {
   "codemirror_mode": {
    "name": "ipython",
    "version": 3
   },
   "file_extension": ".py",
   "mimetype": "text/x-python",
   "name": "python",
   "nbconvert_exporter": "python",
   "pygments_lexer": "ipython3",
   "version": "3.8.18"
  },
  "orig_nbformat": 4
 },
 "nbformat": 4,
 "nbformat_minor": 2
}
